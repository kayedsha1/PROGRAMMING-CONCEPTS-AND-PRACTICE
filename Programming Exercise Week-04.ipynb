{
 "cells": [
  {
   "cell_type": "markdown",
   "metadata": {},
   "source": [
    "# Programming Concepts and Practice\n",
    "## Lab 4"
   ]
  },
  {
   "cell_type": "markdown",
   "metadata": {},
   "source": [
    "Hi again! In this week's lecture, we covered important concepts in Python: functions and modules. \n",
    "A quick recap follows."
   ]
  },
  {
   "cell_type": "markdown",
   "metadata": {},
   "source": [
    "### Defining functions"
   ]
  },
  {
   "cell_type": "markdown",
   "metadata": {},
   "source": [
    "Let us define the `max()` function in the lecture slides."
   ]
  },
  {
   "cell_type": "code",
   "execution_count": 20,
   "metadata": {},
   "outputs": [
    {
     "data": {
      "text/plain": [
       "6"
      ]
     },
     "execution_count": 20,
     "metadata": {},
     "output_type": "execute_result"
    }
   ],
   "source": [
    "def max(num1, num2):\n",
    "    if (num1 > num2):\n",
    "        result = num1\n",
    "    else:\n",
    "        result = num2\n",
    "    return result\n",
    "\n",
    "print(max(3, 6))"
   ]
  },
  {
   "cell_type": "markdown",
   "metadata": {},
   "source": [
    "Note that the variable `result` is local, so it cannot be accessed outside of `max()`."
   ]
  },
  {
   "cell_type": "code",
   "execution_count": 21,
   "metadata": {},
   "outputs": [
    {
     "ename": "NameError",
     "evalue": "name 'result' is not defined",
     "output_type": "error",
     "traceback": [
      "\u001b[1;31m---------------------------------------------------------------------------\u001b[0m",
      "\u001b[1;31mNameError\u001b[0m                                 Traceback (most recent call last)",
      "\u001b[1;32m<ipython-input-21-6459d04d738f>\u001b[0m in \u001b[0;36m<module>\u001b[1;34m\u001b[0m\n\u001b[1;32m----> 1\u001b[1;33m \u001b[0mprint\u001b[0m\u001b[1;33m(\u001b[0m\u001b[0mresult\u001b[0m\u001b[1;33m)\u001b[0m\u001b[1;33m\u001b[0m\u001b[1;33m\u001b[0m\u001b[0m\n\u001b[0m",
      "\u001b[1;31mNameError\u001b[0m: name 'result' is not defined"
     ]
    }
   ],
   "source": [
    "print(result)"
   ]
  },
  {
   "cell_type": "markdown",
   "metadata": {},
   "source": [
    "Here's some other examples."
   ]
  },
  {
   "cell_type": "code",
   "execution_count": 1,
   "metadata": {},
   "outputs": [
    {
     "name": "stdin",
     "output_type": "stream",
     "text": [
      "Enter a number please:  10\n"
     ]
    },
    {
     "name": "stdout",
     "output_type": "stream",
     "text": [
      "1 * 10 = 10\n",
      "2 * 10 = 20\n",
      "3 * 10 = 30\n",
      "4 * 10 = 40\n",
      "5 * 10 = 50\n",
      "6 * 10 = 60\n",
      "7 * 10 = 70\n",
      "8 * 10 = 80\n",
      "9 * 10 = 90\n",
      "10 * 10 = 100\n",
      "11 * 10 = 110\n",
      "12 * 10 = 120\n"
     ]
    }
   ],
   "source": [
    "def multiplicationtable(n):\n",
    "    i = 1\n",
    "    while i <=12:\n",
    "        print(i, \"*\", n, \"=\", i*n)\n",
    "        i +=1\n",
    "        \n",
    "def main():\n",
    "    num = int(input(\"Enter a number please:\"))\n",
    "    multiplicationtable(num)\n",
    "    \n",
    "main()"
   ]
  },
  {
   "cell_type": "code",
   "execution_count": 2,
   "metadata": {},
   "outputs": [
    {
     "name": "stdout",
     "output_type": "stream",
     "text": [
      "3.141592653589793\n"
     ]
    },
    {
     "data": {
      "text/plain": [
       "5.0"
      ]
     },
     "execution_count": 2,
     "metadata": {},
     "output_type": "execute_result"
    }
   ],
   "source": [
    "import math\n",
    "\n",
    "def pythagoras(a,b):\n",
    "    asq = a * a\n",
    "    bsq = b * b\n",
    "    return math.sqrt(asq+bsq)\n",
    "\n",
    "pythagoras(3,4)"
   ]
  },
  {
   "cell_type": "code",
   "execution_count": 8,
   "metadata": {},
   "outputs": [
    {
     "name": "stdout",
     "output_type": "stream",
     "text": [
      "Enter a temperature: \n"
     ]
    },
    {
     "name": "stdin",
     "output_type": "stream",
     "text": [
      " 100\n"
     ]
    },
    {
     "name": "stdout",
     "output_type": "stream",
     "text": [
      "Enter the scale to convert to: \n"
     ]
    },
    {
     "name": "stdin",
     "output_type": "stream",
     "text": [
      " f\n"
     ]
    },
    {
     "name": "stdout",
     "output_type": "stream",
     "text": [
      "Your temperature in f is 212\n"
     ]
    }
   ],
   "source": [
    "def ftoc(tem):\n",
    "    return(tem - 32.0)*(5.0/9.0)\n",
    "    \n",
    "    \n",
    "def ctof(tem):\n",
    "    return(tem * (9.0/5.0) + 32.0)\n",
    "    \n",
    "    \n",
    "    \n",
    "def convert(tem, toScale):\n",
    "    if toScale.lower() == \"c\":\n",
    "        return ftoc(tem)\n",
    "    else:\n",
    "        return ctof(tem)\n",
    "    \n",
    "print(\"Enter a temperature: \")\n",
    "temp = int(input())\n",
    "\n",
    "print(\"Enter the scale to convert to: \")\n",
    "scale = input()\n",
    "\n",
    "converted = convert(temp, scale)\n",
    "out = \"Your temperature in {} is {}\".format(scale, round(converted))\n",
    "print(out)"
   ]
  },
  {
   "cell_type": "markdown",
   "metadata": {},
   "source": [
    "A function can return more than one values; simply separate these values with commas (\",\"), so the return value\n",
    "becomes a tuple. As another example, let us implement a program that computes the surface area and volume of a sphere from its radius."
   ]
  },
  {
   "cell_type": "code",
   "execution_count": 11,
   "metadata": {},
   "outputs": [
    {
     "name": "stdin",
     "output_type": "stream",
     "text": [
      "Please enter the radius of the sphere: 10\n"
     ]
    },
    {
     "name": "stdout",
     "output_type": "stream",
     "text": [
      "1256.6370614359173 4188.790204786391\n"
     ]
    }
   ],
   "source": [
    "import math\n",
    "\n",
    "def surface(r):\n",
    "    return 4 * math.pi * r**2, 4/3 * math.pi * r**3\n",
    "\n",
    "r = float(input(\"Please enter the radius of the sphere:\"))\n",
    "print(surface(r)[0], surface(r)[1])"
   ]
  },
  {
   "cell_type": "markdown",
   "metadata": {},
   "source": [
    "### Passing arguments"
   ]
  },
  {
   "cell_type": "markdown",
   "metadata": {},
   "source": [
    "The arguments of a function can be passed as positional arguments or keyword arguments. For example, the following\n",
    "code checks whether a given date is valid (assuming a non-leap year). The function call `check_date(day = d, month = m)` is effectively the same as `check_date(m, d)`."
   ]
  },
  {
   "cell_type": "code",
   "execution_count": 34,
   "metadata": {},
   "outputs": [
    {
     "name": "stdin",
     "output_type": "stream",
     "text": [
      "Please enter month: 9\n",
      "Please enter day: 31\n"
     ]
    },
    {
     "name": "stdout",
     "output_type": "stream",
     "text": [
      "The date is invalid.\n"
     ]
    }
   ],
   "source": [
    "def check_date(month, day):\n",
    "    if (month == 1 or month == 3 or month == 5 or month == 7 or month == 8 or month == 10 or month == 12):\n",
    "        return day >= 1 and day <= 31\n",
    "    elif (month == 4 or month == 6 or month == 9 or month == 11):\n",
    "        return day >= 1 and day <= 30\n",
    "    elif (month == 2):\n",
    "        return day >= 1 and day <= 28\n",
    "    else:\n",
    "        return False\n",
    "    \n",
    "m = int(input(\"Please enter month:\"))    \n",
    "d = int(input(\"Please enter day:\"))    \n",
    "if check_date(day = d, month = m): \n",
    "    print(\"The date is valid.\")\n",
    "else:    \n",
    "    print(\"The date is invalid.\")"
   ]
  },
  {
   "cell_type": "markdown",
   "metadata": {},
   "source": [
    "It is also possible to pass an indefinite number of arguments to a function. To do this, we use the special syntax in the code below. Note that:\n",
    "- The positional arguments become a tuple.\n",
    "- Keyword arguments become a dictionary.\n",
    "- These two types of arguments can be used together."
   ]
  },
  {
   "cell_type": "code",
   "execution_count": 45,
   "metadata": {},
   "outputs": [
    {
     "name": "stdout",
     "output_type": "stream",
     "text": [
      "Positional: ('one', 'two', 'three')\n",
      "Keywords: {}\n",
      "\n",
      "Positional: ()\n",
      "Keywords: {'a': 'one', 'b': 'two', 'c': 'three'}\n",
      "\n",
      "Positional: ('one', 'two')\n",
      "Keywords: {'c': 'three', 'd': 'four'}\n",
      "\n"
     ]
    }
   ],
   "source": [
    "def foo(*args, **kwargs):\n",
    "    print(\"Positional:\", args)\n",
    "    print(\"Keywords:\", kwargs)\n",
    "    print() # this prints a newline\n",
    "\n",
    "foo(\"one\", \"two\", \"three\") \n",
    "foo(a=\"one\", b=\"two\", c=\"three\")\n",
    "foo(\"one\", \"two\", c=\"three\", d=\"four\")"
   ]
  },
  {
   "cell_type": "markdown",
   "metadata": {},
   "source": [
    "If you have collected your arguments beforehand in a list or dictionary, you can also pass them all at once using the syntax below."
   ]
  },
  {
   "cell_type": "code",
   "execution_count": 12,
   "metadata": {},
   "outputs": [
    {
     "name": "stdout",
     "output_type": "stream",
     "text": [
      "('BSc', 'MSc')\n",
      "{'name': 'John', 'age': 70}\n"
     ]
    }
   ],
   "source": [
    "def employee_info(*args, **kwargs):\n",
    "    print(args)\n",
    "    print(kwargs)\n",
    "    \n",
    "qualifications = [\"BSc\", \"MSc\"]\n",
    "info = {'name': 'John', 'age': 70}\n",
    "    \n",
    "employee_info(*qualifications, **info)"
   ]
  },
  {
   "cell_type": "markdown",
   "metadata": {},
   "source": [
    "### Revisiting assignment (=)"
   ]
  },
  {
   "cell_type": "markdown",
   "metadata": {},
   "source": [
    "Let us take a look again at the (probably slightly confusing) example in the slides."
   ]
  },
  {
   "cell_type": "code",
   "execution_count": 47,
   "metadata": {},
   "outputs": [
    {
     "name": "stdout",
     "output_type": "stream",
     "text": [
      "Bill ['Fred', 'George'] ['Fred', 'George']\n"
     ]
    }
   ],
   "source": [
    "some_guy = \"Fred\"\n",
    "\n",
    "first_names = []\n",
    "first_names.append(some_guy)\n",
    "\n",
    "another_list_of_names = first_names\n",
    "another_list_of_names.append(\"George\")\n",
    "some_guy = \"Bill\"\n",
    "\n",
    "print(some_guy, first_names, another_list_of_names)"
   ]
  },
  {
   "cell_type": "markdown",
   "metadata": {},
   "source": [
    "Initially we have an empty list `first_names`. When we append `some_guy` (which refers to a string `\"Fred\"`) to it, we are just adding another reference to `\"Fred\"`. For the same reason, `another_list_of_names` refers to the same list, which explains why `\"George\"` also appears in `first_names` afterwards. Finally, when `some_guy = \"Bill\"` is executed, instead of overwriting `Fred` with `Bill`, we are simply binding `some_guy` to another string `\"Bill\"`."
   ]
  },
  {
   "cell_type": "markdown",
   "metadata": {},
   "source": [
    "### Call by sharing (call by object)"
   ]
  },
  {
   "cell_type": "markdown",
   "metadata": {},
   "source": [
    "The code below prints `[1]`---the parameter `list` and `m` refers to the same object, and thus when that object is mutated, the effect can also be seen by printing `m`."
   ]
  },
  {
   "cell_type": "code",
   "execution_count": 1,
   "metadata": {},
   "outputs": [
    {
     "name": "stdout",
     "output_type": "stream",
     "text": [
      "[1]\n"
     ]
    }
   ],
   "source": [
    "def f(list):\n",
    "    list.append(1)\n",
    "\n",
    "m = []\n",
    "f(m)\n",
    "print(m)"
   ]
  },
  {
   "cell_type": "markdown",
   "metadata": {},
   "source": [
    "The following code, on the other hand, prints `[0]`. In fact, `list` is originally bounded to the same object as `m`, but\n",
    "when `list = [1]` executes,  it points the  list to another `[1]`. So, the list object that `m` refers to is untouched."
   ]
  },
  {
   "cell_type": "code",
   "execution_count": 2,
   "metadata": {},
   "outputs": [
    {
     "name": "stdout",
     "output_type": "stream",
     "text": [
      "[]\n"
     ]
    }
   ],
   "source": [
    "def f(list):\n",
    "    list = [1]\n",
    "\n",
    "m = []\n",
    "f(m)\n",
    "print(m)"
   ]
  },
  {
   "cell_type": "markdown",
   "metadata": {},
   "source": [
    "### Recursive functions"
   ]
  },
  {
   "cell_type": "markdown",
   "metadata": {},
   "source": [
    "What follows is a very typical example of recursive functions. Note how the function calls itself with a smaller argument `n - 1`."
   ]
  },
  {
   "cell_type": "code",
   "execution_count": 18,
   "metadata": {},
   "outputs": [
    {
     "name": "stdout",
     "output_type": "stream",
     "text": [
      "3628800\n",
      "1\n"
     ]
    }
   ],
   "source": [
    "def factorial(n):\n",
    "    if (n >= 1):\n",
    "        return n * factorial(n - 1)\n",
    "    elif (n == 0):\n",
    "        return 1\n",
    "    else: # n < 0\n",
    "        raise ArithmeticError(\"Well, non-negative integers only.\")\n",
    "\n",
    "print(factorial(10))\n",
    "print(factorial(0))"
   ]
  },
  {
   "cell_type": "markdown",
   "metadata": {},
   "source": [
    "The Fibonacci series begins with $0$ and $1$, and each subsequent term is the sum of the\n",
    "preceding two. The series can be recursively defined as follows:\n",
    "- $\\textit{fibo}(0) = 0$;\n",
    "- $\\textit{fibo}(1) = 1$;\n",
    "- $\\textit{fibo}(\\textit{index}) = \\textit{fibo}(\\textit{index} - 2) + \\textit{fibo}(\\textit{index} - 1) \\text{ (if } \\textit{index} \\geq 2)$."
   ]
  },
  {
   "cell_type": "code",
   "execution_count": 9,
   "metadata": {},
   "outputs": [
    {
     "name": "stdin",
     "output_type": "stream",
     "text": [
      "Enter an index for a Fibonacci number:  10\n"
     ]
    },
    {
     "name": "stdout",
     "output_type": "stream",
     "text": [
      "The Fibonacci number at index 10 is 55\n"
     ]
    }
   ],
   "source": [
    "def main():\n",
    "    index = eval(input(\"Enter an index for a Fibonacci number: \"))\n",
    "    # Find and display the Fibonacci number\n",
    "    print(\"The Fibonacci number at index\", index, \"is\", fibo(index) )\n",
    "\n",
    "# The function finds the Fibonacci number\n",
    "def fibo(index):\n",
    "    if index == 0: # Base case\n",
    "         return 0\n",
    "    elif index == 1: # Base case\n",
    "         return 1\n",
    "    else: # Reduction and recursive calls\n",
    "          return  fibo(index-1) + fibo(index-2)\n",
    "\n",
    "main() # Call the main function"
   ]
  },
  {
   "cell_type": "markdown",
   "metadata": {},
   "source": [
    "### Anonymous functions and function objects"
   ]
  },
  {
   "cell_type": "markdown",
   "metadata": {},
   "source": [
    "The following code defines a function `multiply()`, which accepts a number `n` and returns a function object.\n",
    "The function object is defined as an anonymous function `lambda a : a * n`. So, we bind the returned value of `multiply(2)` to `doubler` and `multiply(3)` to `tripler`."
   ]
  },
  {
   "cell_type": "code",
   "execution_count": 19,
   "metadata": {},
   "outputs": [
    {
     "name": "stdout",
     "output_type": "stream",
     "text": [
      "22\n",
      "33\n"
     ]
    }
   ],
   "source": [
    "def multiply(n):\n",
    "    return lambda a : a * n\n",
    "\n",
    "doubler = multiply(2)\n",
    "tripler = multiply(3)\n",
    "\n",
    "print(doubler(11))\n",
    "print(tripler(11))"
   ]
  },
  {
   "cell_type": "markdown",
   "metadata": {},
   "source": [
    "### Modules"
   ]
  },
  {
   "cell_type": "markdown",
   "metadata": {},
   "source": [
    "The following code imports a module called `fibo` (defined in the file `fibo.py`---see the content of the file yourself!).\n",
    "The `dir()` function returns a list of names defined in the module. You can see that in addition to `fib` and `fib2`, there are also some other stuff, but don't worry about them now."
   ]
  },
  {
   "cell_type": "code",
   "execution_count": 1,
   "metadata": {},
   "outputs": [
    {
     "name": "stdout",
     "output_type": "stream",
     "text": [
      "['__builtins__', '__cached__', '__doc__', '__file__', '__loader__', '__name__', '__package__', '__spec__', 'fib', 'fib2']\n",
      "0 1 1 2 3 5 8 \n",
      "[0, 1, 1, 2, 3, 5, 8]\n"
     ]
    }
   ],
   "source": [
    "import fibo\n",
    "print(dir(fibo))\n",
    "fibo.fib(10)\n",
    "print(fibo.fib2(10))"
   ]
  },
  {
   "cell_type": "markdown",
   "metadata": {},
   "source": [
    "Now, the exercises!"
   ]
  },
  {
   "cell_type": "markdown",
   "metadata": {},
   "source": [
    "1. In a particular city, taxi fares consist of a base fare of £4.00, plus £0.25 for every 150 meters travelled. Write a function that takes the distance travelled (in kilometres) as its only parameter and returns the total fare as its only result. Write a main function that demonstrates the function. Hint: Taxi fares change over time. Use constants to represent the base fare and the variable portion of the fare so that the program can be updated easily when the rates increase."
   ]
  },
  {
   "cell_type": "code",
   "execution_count": 11,
   "metadata": {},
   "outputs": [
    {
     "name": "stdin",
     "output_type": "stream",
     "text": [
      "Hey, please input the distance: 149.999\n"
     ]
    },
    {
     "name": "stdout",
     "output_type": "stream",
     "text": [
      "4.0\n"
     ]
    }
   ],
   "source": [
    "import math\n",
    "\n",
    "def fare(distance): # in metres\n",
    "    return 4.00 + 0.25 * math.floor(distance/150)\n",
    "\n",
    "d = float(input(\"Hey, please input the distance:\"))\n",
    "print(fare(d))"
   ]
  },
  {
   "cell_type": "markdown",
   "metadata": {},
   "source": [
    "2. An online retailer provides express shipping for many of its items at a rate of £10.95 for the first item, and £2.95 for each subsequent item. The retailer has hired you to design and implement an application that helps in computing the charges of their shipping orders. Write a function that takes the number of items in the order as its only parameter. Return the shipping charge for the order as the function’s result. Include a main function that reads the number of items purchased from the user and displays the shipping charge."
   ]
  },
  {
   "cell_type": "code",
   "execution_count": 22,
   "metadata": {},
   "outputs": [
    {
     "name": "stdin",
     "output_type": "stream",
     "text": [
      "Enter the number of item please:  3\n"
     ]
    },
    {
     "name": "stdout",
     "output_type": "stream",
     "text": [
      "The cost of shipping 3 items is £16.85 \n"
     ]
    }
   ],
   "source": [
    "#Function that computes the cost of shipping n number of items\n",
    "def shipping(n):\n",
    "    cost = 10.95 + (2.95*(n-1))#Add the cost of first items to the cost of n-1 items multiplied by unit cost\n",
    "    return cost\n",
    "\n",
    "def main():\n",
    "    n = int(input(\"Enter the number of item please: \"))    \n",
    "    cost = shipping(n)    \n",
    "    out = \"The cost of shipping {} items is £{} \".format(n,cost)    \n",
    "    print(out)\n",
    "    \n",
    "main()"
   ]
  },
  {
   "cell_type": "markdown",
   "metadata": {},
   "source": [
    "3. Write a function that determines how many days there are in a particular month. Your function will take two parameters: The month as an integer between 1 and 12, and the year as a four-digit integer. **Ensure that your function reports the correct number of days in February for leap years**. Include a main function that reads a month and year from the user and displays the number of days in that month. "
   ]
  },
  {
   "cell_type": "code",
   "execution_count": 33,
   "metadata": {},
   "outputs": [
    {
     "name": "stdin",
     "output_type": "stream",
     "text": [
      "Enter month please: 3\n",
      "Enter year please: 2019\n"
     ]
    },
    {
     "name": "stdout",
     "output_type": "stream",
     "text": [
      "There are 31 days.\n"
     ]
    }
   ],
   "source": [
    "#A predicate p function that returns true or false if the year is leap or not\n",
    "def is_leap_year(year):\n",
    "    return (year % 4 == 0) and ((year % 100 !=0) or (year % 400 ==0))\n",
    "\n",
    "#Determine the number of days in a month\n",
    "month_days = [0,31,28,31,30,31,30,31,31,30,31,30,31]\n",
    "\n",
    "def days_in_month(month, year):\n",
    "    if not 1 <= month <= 12:\n",
    "        raise ValueError(\"Month is not valid\")\n",
    "    if month == 2 and is_leap_year(year):\n",
    "        return 29\n",
    "    return month_days[month]\n",
    "\n",
    "def main():\n",
    "    m = int(input(\"Enter month please:\"))\n",
    "    y = int(input(\"Enter year please:\"))     \n",
    "    out = \"There are {} days.\".format(days_in_month(m, d))    \n",
    "    print(out)\n",
    "    \n",
    "main()"
   ]
  },
  {
   "cell_type": "markdown",
   "metadata": {},
   "source": [
    "4. A magic date is a date where the day multiplied by the month is equal to the two-digit year. For example, June 10, 1960 is a magic date because June is the sixth month, and 6 times 10 is 60, which is equal to the two-digit year. Write a function that determines whether or not a date is a magic date. Use your function to create a main program that finds and displays all of the magic dates in the 20th century (that's January 1, 1901 to December 31, 2000). Hint: You need the function in exercise (3) to determine the number of days in a month given the year and the month ."
   ]
  },
  {
   "cell_type": "code",
   "execution_count": 34,
   "metadata": {},
   "outputs": [
    {
     "name": "stdout",
     "output_type": "stream",
     "text": [
      "1/1/1901 is a magic date!\n",
      "2/1/1902 is a magic date!\n",
      "1/2/1902 is a magic date!\n",
      "3/1/1903 is a magic date!\n",
      "1/3/1903 is a magic date!\n",
      "4/1/1904 is a magic date!\n",
      "2/2/1904 is a magic date!\n",
      "1/4/1904 is a magic date!\n",
      "5/1/1905 is a magic date!\n",
      "1/5/1905 is a magic date!\n",
      "6/1/1906 is a magic date!\n",
      "3/2/1906 is a magic date!\n",
      "2/3/1906 is a magic date!\n",
      "1/6/1906 is a magic date!\n",
      "7/1/1907 is a magic date!\n",
      "1/7/1907 is a magic date!\n",
      "8/1/1908 is a magic date!\n",
      "4/2/1908 is a magic date!\n",
      "2/4/1908 is a magic date!\n",
      "1/8/1908 is a magic date!\n",
      "9/1/1909 is a magic date!\n",
      "3/3/1909 is a magic date!\n",
      "1/9/1909 is a magic date!\n",
      "10/1/1910 is a magic date!\n",
      "5/2/1910 is a magic date!\n",
      "2/5/1910 is a magic date!\n",
      "1/10/1910 is a magic date!\n",
      "11/1/1911 is a magic date!\n",
      "1/11/1911 is a magic date!\n",
      "12/1/1912 is a magic date!\n",
      "6/2/1912 is a magic date!\n",
      "4/3/1912 is a magic date!\n",
      "3/4/1912 is a magic date!\n",
      "2/6/1912 is a magic date!\n",
      "1/12/1912 is a magic date!\n",
      "13/1/1913 is a magic date!\n",
      "14/1/1914 is a magic date!\n",
      "7/2/1914 is a magic date!\n",
      "2/7/1914 is a magic date!\n",
      "15/1/1915 is a magic date!\n",
      "5/3/1915 is a magic date!\n",
      "3/5/1915 is a magic date!\n",
      "16/1/1916 is a magic date!\n",
      "8/2/1916 is a magic date!\n",
      "4/4/1916 is a magic date!\n",
      "2/8/1916 is a magic date!\n",
      "17/1/1917 is a magic date!\n",
      "18/1/1918 is a magic date!\n",
      "9/2/1918 is a magic date!\n",
      "6/3/1918 is a magic date!\n",
      "3/6/1918 is a magic date!\n",
      "2/9/1918 is a magic date!\n",
      "19/1/1919 is a magic date!\n",
      "20/1/1920 is a magic date!\n",
      "10/2/1920 is a magic date!\n",
      "5/4/1920 is a magic date!\n",
      "4/5/1920 is a magic date!\n",
      "2/10/1920 is a magic date!\n",
      "21/1/1921 is a magic date!\n",
      "7/3/1921 is a magic date!\n",
      "3/7/1921 is a magic date!\n",
      "22/1/1922 is a magic date!\n",
      "11/2/1922 is a magic date!\n",
      "2/11/1922 is a magic date!\n",
      "23/1/1923 is a magic date!\n",
      "24/1/1924 is a magic date!\n",
      "12/2/1924 is a magic date!\n",
      "8/3/1924 is a magic date!\n",
      "6/4/1924 is a magic date!\n",
      "4/6/1924 is a magic date!\n",
      "3/8/1924 is a magic date!\n",
      "2/12/1924 is a magic date!\n",
      "25/1/1925 is a magic date!\n",
      "5/5/1925 is a magic date!\n",
      "26/1/1926 is a magic date!\n",
      "13/2/1926 is a magic date!\n",
      "27/1/1927 is a magic date!\n",
      "9/3/1927 is a magic date!\n",
      "3/9/1927 is a magic date!\n",
      "28/1/1928 is a magic date!\n",
      "14/2/1928 is a magic date!\n",
      "7/4/1928 is a magic date!\n",
      "4/7/1928 is a magic date!\n",
      "29/1/1929 is a magic date!\n",
      "30/1/1930 is a magic date!\n",
      "15/2/1930 is a magic date!\n",
      "10/3/1930 is a magic date!\n",
      "6/5/1930 is a magic date!\n",
      "5/6/1930 is a magic date!\n",
      "3/10/1930 is a magic date!\n",
      "31/1/1931 is a magic date!\n",
      "16/2/1932 is a magic date!\n",
      "8/4/1932 is a magic date!\n",
      "4/8/1932 is a magic date!\n",
      "11/3/1933 is a magic date!\n",
      "3/11/1933 is a magic date!\n",
      "17/2/1934 is a magic date!\n",
      "7/5/1935 is a magic date!\n",
      "5/7/1935 is a magic date!\n",
      "18/2/1936 is a magic date!\n",
      "12/3/1936 is a magic date!\n",
      "9/4/1936 is a magic date!\n",
      "6/6/1936 is a magic date!\n",
      "4/9/1936 is a magic date!\n",
      "3/12/1936 is a magic date!\n",
      "19/2/1938 is a magic date!\n",
      "13/3/1939 is a magic date!\n",
      "20/2/1940 is a magic date!\n",
      "10/4/1940 is a magic date!\n",
      "8/5/1940 is a magic date!\n",
      "5/8/1940 is a magic date!\n",
      "4/10/1940 is a magic date!\n",
      "21/2/1942 is a magic date!\n",
      "14/3/1942 is a magic date!\n",
      "7/6/1942 is a magic date!\n",
      "6/7/1942 is a magic date!\n",
      "22/2/1944 is a magic date!\n",
      "11/4/1944 is a magic date!\n",
      "4/11/1944 is a magic date!\n",
      "15/3/1945 is a magic date!\n",
      "9/5/1945 is a magic date!\n",
      "5/9/1945 is a magic date!\n",
      "23/2/1946 is a magic date!\n",
      "24/2/1948 is a magic date!\n",
      "16/3/1948 is a magic date!\n",
      "12/4/1948 is a magic date!\n",
      "8/6/1948 is a magic date!\n",
      "6/8/1948 is a magic date!\n",
      "4/12/1948 is a magic date!\n",
      "7/7/1949 is a magic date!\n",
      "25/2/1950 is a magic date!\n",
      "10/5/1950 is a magic date!\n",
      "5/10/1950 is a magic date!\n",
      "17/3/1951 is a magic date!\n",
      "26/2/1952 is a magic date!\n",
      "13/4/1952 is a magic date!\n",
      "27/2/1954 is a magic date!\n",
      "18/3/1954 is a magic date!\n",
      "9/6/1954 is a magic date!\n",
      "6/9/1954 is a magic date!\n",
      "11/5/1955 is a magic date!\n",
      "5/11/1955 is a magic date!\n",
      "28/2/1956 is a magic date!\n",
      "14/4/1956 is a magic date!\n",
      "8/7/1956 is a magic date!\n",
      "7/8/1956 is a magic date!\n",
      "19/3/1957 is a magic date!\n",
      "20/3/1960 is a magic date!\n",
      "15/4/1960 is a magic date!\n",
      "12/5/1960 is a magic date!\n",
      "10/6/1960 is a magic date!\n",
      "6/10/1960 is a magic date!\n",
      "5/12/1960 is a magic date!\n",
      "21/3/1963 is a magic date!\n",
      "9/7/1963 is a magic date!\n",
      "7/9/1963 is a magic date!\n",
      "16/4/1964 is a magic date!\n",
      "8/8/1964 is a magic date!\n",
      "13/5/1965 is a magic date!\n",
      "22/3/1966 is a magic date!\n",
      "11/6/1966 is a magic date!\n",
      "6/11/1966 is a magic date!\n",
      "17/4/1968 is a magic date!\n",
      "23/3/1969 is a magic date!\n",
      "14/5/1970 is a magic date!\n",
      "10/7/1970 is a magic date!\n",
      "7/10/1970 is a magic date!\n",
      "24/3/1972 is a magic date!\n",
      "18/4/1972 is a magic date!\n",
      "12/6/1972 is a magic date!\n",
      "9/8/1972 is a magic date!\n",
      "8/9/1972 is a magic date!\n",
      "6/12/1972 is a magic date!\n",
      "25/3/1975 is a magic date!\n",
      "15/5/1975 is a magic date!\n",
      "19/4/1976 is a magic date!\n",
      "11/7/1977 is a magic date!\n",
      "7/11/1977 is a magic date!\n",
      "26/3/1978 is a magic date!\n",
      "13/6/1978 is a magic date!\n",
      "20/4/1980 is a magic date!\n",
      "16/5/1980 is a magic date!\n",
      "10/8/1980 is a magic date!\n",
      "8/10/1980 is a magic date!\n",
      "27/3/1981 is a magic date!\n",
      "9/9/1981 is a magic date!\n",
      "28/3/1984 is a magic date!\n",
      "21/4/1984 is a magic date!\n",
      "14/6/1984 is a magic date!\n",
      "12/7/1984 is a magic date!\n",
      "7/12/1984 is a magic date!\n",
      "17/5/1985 is a magic date!\n",
      "29/3/1987 is a magic date!\n",
      "22/4/1988 is a magic date!\n",
      "11/8/1988 is a magic date!\n",
      "8/11/1988 is a magic date!\n",
      "30/3/1990 is a magic date!\n",
      "18/5/1990 is a magic date!\n",
      "15/6/1990 is a magic date!\n",
      "10/9/1990 is a magic date!\n",
      "9/10/1990 is a magic date!\n",
      "13/7/1991 is a magic date!\n",
      "23/4/1992 is a magic date!\n",
      "31/3/1993 is a magic date!\n",
      "19/5/1995 is a magic date!\n",
      "24/4/1996 is a magic date!\n",
      "16/6/1996 is a magic date!\n",
      "12/8/1996 is a magic date!\n",
      "8/12/1996 is a magic date!\n",
      "14/7/1998 is a magic date!\n",
      "11/9/1999 is a magic date!\n",
      "9/11/1999 is a magic date!\n"
     ]
    }
   ],
   "source": [
    "#A predicate p function that returns true or false if the year is leap or not\n",
    "def is_leap_year(year):\n",
    "    return (year % 4 == 0) and ((year % 100 !=0) or (year % 400 ==0))\n",
    "\n",
    "#Determine the number of days in a month\n",
    "month_days = [0,31,28,31,30,31,30,31,31,30,31,30,31]\n",
    "\n",
    "def days_in_month(month, year):\n",
    "    if not 1 <= month <= 12:\n",
    "        raise ValueError(\"Month is not valid\")\n",
    "    if month == 2 and is_leap_year(year):\n",
    "        return 29\n",
    "    return month_days[month]\n",
    "\n",
    "#Find the magic date\n",
    "def isMagicDate(day, month, year):\n",
    "    #Use modulo operator to extract the last 2 digit of 4 digit year\n",
    "    if day * month == year % 100:\n",
    "        return True\n",
    "    return False\n",
    "\n",
    "def main():\n",
    "    for year in range(1901, 2001):\n",
    "        for month in range(1,13):\n",
    "            for day in range(1, days_in_month(month, year) + 1):\n",
    "                if isMagicDate(day, month, year):\n",
    "                    print(f\"{day}/{month}/{year} is a magic date!\")\n",
    "\n",
    "main()"
   ]
  },
  {
   "cell_type": "markdown",
   "metadata": {},
   "source": [
    "5. In statistics, $\\binom{n}{k}$, the *binomial coefficient indexed by $n$ and $k$* (often read as \"$n$ choose $k$\", whereby $n$ must be bigger than or equal to $k$) is calculated as $\\frac{n!}{k! \\dot (n - k)!}$. Here $n!$ denotes the factorial of $n$.\n",
    "Write a function that calculates the binomial coefficient for its two parameters, and returns the value. Put the function in a module file (`.py`), so it can be imported by other programs, and write a main function to show it in action."
   ]
  },
  {
   "cell_type": "code",
   "execution_count": 1,
   "metadata": {},
   "outputs": [
    {
     "name": "stdin",
     "output_type": "stream",
     "text": [
      "Enter the value of n : 10\n",
      "Enter the value of k 5\n"
     ]
    },
    {
     "name": "stdout",
     "output_type": "stream",
     "text": [
      "The binomial coefficient of of 10 and 5 is 252.\n"
     ]
    }
   ],
   "source": [
    "import binomial\n",
    "\n",
    "def main():\n",
    "   \n",
    "    n = int(input(\"Enter the value of n :\"))\n",
    "    k = int(input(\"Enter the value of k\"))\n",
    "    b = binomial.binomialCoefficient(n, k)   \n",
    "    out = \"The binomial coefficient of of {} and {} is {}.\".format(n, k, b)\n",
    "    print(out)\n",
    "\n",
    "main()"
   ]
  }
 ],
 "metadata": {
  "kernelspec": {
   "display_name": "Python 3 (ipykernel)",
   "language": "python",
   "name": "python3"
  },
  "language_info": {
   "codemirror_mode": {
    "name": "ipython",
    "version": 3
   },
   "file_extension": ".py",
   "mimetype": "text/x-python",
   "name": "python",
   "nbconvert_exporter": "python",
   "pygments_lexer": "ipython3",
   "version": "3.9.12"
  }
 },
 "nbformat": 4,
 "nbformat_minor": 4
}
