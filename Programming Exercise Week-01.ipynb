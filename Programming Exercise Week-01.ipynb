{
 "cells": [
  {
   "cell_type": "markdown",
   "metadata": {},
   "source": [
    "# Programming Concepts and Practice\n",
    "## Lab 1"
   ]
  },
  {
   "cell_type": "markdown",
   "metadata": {},
   "source": [
    "We will be using Jupyter notebooks for most of the exercises, so get yourself familiar with them!\n",
    "Note in particular that there are three types of cells, and we will mostly be using the first two:\n",
    "- Markdown: Text descriptions with some lightweight formatting (like this one).\n",
    "- Code: Executable pieces of code (like the one just below).\n",
    "- Raw: Won't be processed by the kernel; only useful for special use cases.\n",
    "\n",
    "Let us start with some example code in the slides."
   ]
  },
  {
   "cell_type": "code",
   "execution_count": 4,
   "metadata": {},
   "outputs": [
    {
     "name": "stdout",
     "output_type": "stream",
     "text": [
      "-----Greetings-----\n",
      "\n",
      "Yomi, welcome to Programming Concepts and Practice\n"
     ]
    }
   ],
   "source": [
    "#The program declares two variables name\n",
    "#Using the name, it prints the greeting.\n",
    "name = \"Yomi\"\n",
    "greeting = \"welcome to Programming Concepts and Practice\"\n",
    "print(\"-----Greetings-----\")\n",
    "print()\n",
    "print(name, greeting)"
   ]
  },
  {
   "cell_type": "code",
   "execution_count": 11,
   "metadata": {},
   "outputs": [
    {
     "name": "stdin",
     "output_type": "stream",
     "text": [
      "What is the temperature in degree Fahrenheit, please ?  190\n"
     ]
    },
    {
     "name": "stdout",
     "output_type": "stream",
     "text": [
      "The temperature is  88  Degree Celsius.\n"
     ]
    }
   ],
   "source": [
    "#convertTemperature.py\n",
    "# A program that converts temperature in degrees\n",
    "#Fahrenheit to  degrees Celsius\n",
    "# by: Yomi Otebolaku\n",
    "\n",
    "def convertTemperature():#function(dont worry yet about functions)\n",
    "    #input the temperature in Fahrenheit degrees\n",
    "    fahrenheit = int(input(\"What is the temperature in degrees Fahrenheit, please ? \"))\n",
    "    #process the input by converting to celsius\n",
    "    celsius = (fahrenheit - 32)*(5/9)  \n",
    "    #Output the result(temperature in celsius degrees, rounded to the nearest integer)\n",
    "    print(\"The temperature is\", int(round(celsius)), \"degrees Celsius.\")\n",
    "\n",
    "convertTemperature()#call the function"
   ]
  },
  {
   "cell_type": "markdown",
   "metadata": {},
   "source": [
    "Now we can start with the exercises!"
   ]
  },
  {
   "cell_type": "markdown",
   "metadata": {},
   "source": [
    "1. Modify the convertTemperature program, without using function, to convert degrees Celsius to degrees Fahrenheit. "
   ]
  },
  {
   "cell_type": "code",
   "execution_count": 14,
   "metadata": {},
   "outputs": [
    {
     "name": "stdin",
     "output_type": "stream",
     "text": [
      "What is the temperature in degrees Fahrenheit, please ?  20\n"
     ]
    },
    {
     "name": "stdout",
     "output_type": "stream",
     "text": [
      "The temperature is -7 degrees Celsius.\n"
     ]
    }
   ],
   "source": [
    "fahrenheit = int(input(\"What is the temperature in degrees Fahrenheit, please ? \"))\n",
    "#process the input by converting to celsius\n",
    "celsius = (fahrenheit - 32)*(5/9)  \n",
    "#Output the result(temperature in celsius degrees, rounded to the nearest integer)\n",
    "print(\"The temperature is\", int(round(celsius)), \"degrees Celsius.\")"
   ]
  },
  {
   "cell_type": "markdown",
   "metadata": {},
   "source": [
    "2. Write a program that accepts and converts distances measured in kilometers to miles. The distance in miles should be rounded to an integer and printed on the computer screen. Hint: 1 kilometre is approximately 0.62 miles."
   ]
  },
  {
   "cell_type": "code",
   "execution_count": 5,
   "metadata": {},
   "outputs": [
    {
     "name": "stdin",
     "output_type": "stream",
     "text": [
      "Enter the distance please:  200\n"
     ]
    },
    {
     "name": "stdout",
     "output_type": "stream",
     "text": [
      "The distance of 200 kilometres is 124 miles\n"
     ]
    }
   ],
   "source": [
    "# BY Yomi Otebolaku\n",
    "# This program accepts distances in kilometres and converts them to miles\n",
    "\n",
    "# Define a constant for kilometre to mile conversion\n",
    "\n",
    "KILO_TO_MILE = 0.62\n",
    "# Ask user to input the distance in kilometres\n",
    "\n",
    "kilometre = int(input(\"Enter the distance please: \"))\n",
    "\n",
    "# Compute the distance in miles\n",
    "\n",
    "mile = kilometre * KILO_TO_MILE\n",
    "\n",
    "# Display the result\n",
    "\n",
    "output = \"The distance of {} kilometres is {} miles\".format(kilometre,round(mile))\n",
    "\n",
    "print(output) "
   ]
  },
  {
   "cell_type": "markdown",
   "metadata": {},
   "source": [
    "3. Write a program to compute the volume and surface area of a sphere from its radius, given as input.\n",
    "Hint: $A=4 \\pi r^2$, $V= \\frac{4}{3} \\pi r^3$.\n"
   ]
  },
  {
   "cell_type": "code",
   "execution_count": null,
   "metadata": {},
   "outputs": [],
   "source": [
    "# By Yomi Otebolaku\n",
    "#A program that computes the volume and surface area of a sphere given its radius\n",
    "#as an input\n",
    "import math\n",
    "#Ask user for the radius\n",
    "radius = int(input(\"Enter the radius of the Sphere please: \"))\n",
    "\n",
    "# compute the area\n",
    "\n",
    "area = 4 * math.pi * math.pow(radius,2)\n",
    "\n",
    "#Compute the volume\n",
    "\n",
    "volume = 4/3*( math.pi*math.pow(radius,3))\n",
    "\n",
    "#Display the area and the volume\n",
    "print(\"The surface area is : \", round(area,2))\n",
    "print(\"The volume is : \", volume)\n",
    "\n",
    "#End"
   ]
  },
  {
   "cell_type": "markdown",
   "metadata": {},
   "source": [
    "4. Write a program to read in a 3 digit number and, using maths, reverse it (e.g. 123 becomes 321). An algorithm is outlined below:\n",
    " 1. Ask the user for a 3 digit number\n",
    " 2. Store it into a variable called number - remember to convert to an int\n",
    " 3. Set a variable called hundreds to the result of number // 100 \n",
    " 4. Set a variable called tens to the result of (number % 100) // 10\n",
    " 5. Set a variable called units to the result of number % 10\n",
    " 6. Display to the screen in the order units, tens, hundreds – effectively reversing it\n",
    " "
   ]
  },
  {
   "cell_type": "code",
   "execution_count": 6,
   "metadata": {},
   "outputs": [
    {
     "name": "stdin",
     "output_type": "stream",
     "text": [
      "please enter a 3 digit number:  984\n"
     ]
    },
    {
     "name": "stdout",
     "output_type": "stream",
     "text": [
      "984 reversed is 489\n"
     ]
    }
   ],
   "source": [
    "'''\n",
    "a program to read in a 3 digit number and, using maths, reverse it (e.g. 123 becomes 321):\n",
    "'''\n",
    "#Ask the user for a 3 digit number\n",
    "#Store it into a variable called number - remember to convert to an int\n",
    "number = int(input(\"please enter a 3 digit number: \"))\n",
    "\n",
    "#Set a variable called hundreds to the result of number // 100 \n",
    "hundreds = number//100\n",
    "# Set a variable called tens to the result of (number % 100) // 10\n",
    "tens = (number%100)//10\n",
    "# Set a variable called units to the result of number % 10\n",
    "units = number%10\n",
    "# Display to the screen in the order units, tens, hundreds – effectively reversing it\n",
    "\n",
    "print(f\"{number} reversed is {units}{tens}{hundreds}\")"
   ]
  },
  {
   "cell_type": "markdown",
   "metadata": {},
   "source": [
    "5.Write a program that asks the user to enter the width and length of a room. \n",
    "    Once the values have been read, your program should compute and display the area of the room. \n",
    "    The length and the width will be entered as floating point numbers. \n",
    "    Include units in your prompt and output message; either feet or meters, depending on which unit you are more comfortable working with."
   ]
  },
  {
   "cell_type": "code",
   "execution_count": 4,
   "metadata": {},
   "outputs": [
    {
     "name": "stdout",
     "output_type": "stream",
     "text": [
      "Enter the length og the room in fee please: 90\n",
      "Enter the width of the room in feet: 87\n",
      "The area of the room is  7830.0  square feet\n"
     ]
    }
   ],
   "source": [
    "##\n",
    "#Compute the area of a room\n",
    "#\n",
    "#Read the values of inputs from the user\n",
    "\n",
    "length = float(input(\"Enter the length og the room in fee please: \"))\n",
    "width = float(input(\"Enter the width of the room in feet: \"))\n",
    "\n",
    "# compute the area\n",
    "\n",
    "area = length * width\n",
    "\n",
    "#Output the result\n",
    "print(\"The area of the room is \", area, \" square feet\")"
   ]
  },
  {
   "cell_type": "code",
   "execution_count": null,
   "metadata": {},
   "outputs": [],
   "source": []
  },
  {
   "cell_type": "markdown",
   "metadata": {},
   "source": [
    "6. The amount of energy required to increase temperature of one gram of a material by one degree Celsius is called the material's specific heat, $c$. The total amount of energy required to raise $m$ grams of a material by $\\Delta T$ degrees Celsius can be computed using the formula:\n",
    "\n",
    " $q = m \\cdot c \\cdot \\Delta T$.\n",
    "\n",
    " Write a program that reads the mass of some water and the temperature change from the user. Your program should display the total amount of energy that must be added or removed to achieve the desired temperature change.\n",
    " \n",
    " Hint: The specific heat of water is  4.186 $J/(g \\cdot {}^\\circ C)$.  Since water has a density of 1.0 gram per millilitre, you can use grams and millilitres interchangeably in this programming exercise.\n",
    " Now extend your program so that it also computes the cost of heating the water. Electricity is normally billed using units of kilowatts hours rather than Joules. In this exercise, you should assume that electricity costs 8.9 pence per kilowatt-hour. Use your program to compute the cost of boiling water for a cup of coffee.\n",
    " Hint: You need to look up the factor for converting between Joules and kilowatt hours to complete the last part of this exercise."
   ]
  },
  {
   "cell_type": "code",
   "execution_count": 36,
   "metadata": {},
   "outputs": [
    {
     "name": "stdin",
     "output_type": "stream",
     "text": [
      "Enter the volume of water in millilitres, please :  100\n",
      "Enter the temperature in degrees celsius, please :  40\n"
     ]
    },
    {
     "name": "stdout",
     "output_type": "stream",
     "text": [
      "That will require 16744.0 joules of energy.\n",
      "That energy will cost 0.041383298320000005.\n"
     ]
    }
   ],
   "source": [
    "'''\n",
    "Created on 8 Oct 2021\n",
    "\n",
    "@author: Yomi Otebolaku\n",
    "\n",
    "This program computes the amount of energy  needed to heat a volume of water, and the \n",
    "cost of doing so.\n",
    "'''\n",
    "\n",
    "\n",
    "# Define constants\n",
    "\n",
    "WATER_HEAT_CAPACITY = 4.186\n",
    "ELECTRICITY_PRICE = 8.9\n",
    "JOULE_TO_KWH = 1/(3600*1000) # 2.777e-7\n",
    "\n",
    "volume = float(input(\"Enter the volume of water in millilitres, please : \"))\n",
    "change_in_temp = float(input(\"Enter the temperature in degrees celsius, please : \"))\n",
    "\n",
    "#computer the energy in joules\n",
    "\n",
    "d = volume * change_in_temp * WATER_HEAT_CAPACITY\n",
    "\n",
    "# Display the energy in joules\n",
    "display = \"That will require {} joules of energy.\".format(d)\n",
    "print(display)\n",
    "\n",
    "#Compute the cost\n",
    "\n",
    "kwh = d * JOULE_TO_KWH\n",
    "cost = kwh * ELECTRICITY_PRICE\n",
    "\n",
    "#Display the cost\n",
    "cost_display = \"That energy will cost {}.\".format(cost)\n",
    "print(cost_display)"
   ]
  }
 ],
 "metadata": {
  "kernelspec": {
   "display_name": "Python 3 (ipykernel)",
   "language": "python",
   "name": "python3"
  },
  "language_info": {
   "codemirror_mode": {
    "name": "ipython",
    "version": 3
   },
   "file_extension": ".py",
   "mimetype": "text/x-python",
   "name": "python",
   "nbconvert_exporter": "python",
   "pygments_lexer": "ipython3",
   "version": "3.9.12"
  }
 },
 "nbformat": 4,
 "nbformat_minor": 2
}
