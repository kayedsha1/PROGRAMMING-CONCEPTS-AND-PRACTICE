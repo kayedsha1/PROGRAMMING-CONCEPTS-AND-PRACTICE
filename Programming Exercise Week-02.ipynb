{
 "cells": [
  {
   "cell_type": "markdown",
   "metadata": {},
   "source": [
    "# Programming Concepts and Practice\n",
    "## Lab 2"
   ]
  },
  {
   "cell_type": "markdown",
   "metadata": {},
   "source": [
    "Hello again! Here we will cover some control and data structures in Python.\n",
    "Let's have a look at the examples in the slides."
   ]
  },
  {
   "cell_type": "code",
   "execution_count": 7,
   "metadata": {},
   "outputs": [
    {
     "name": "stdin",
     "output_type": "stream",
     "text": [
      "Enter number 1, please: 10\n",
      "Enter number 2, please: 1\n",
      "Enter number 3, please: 1\n",
      "Enter number 4, please: 1\n",
      "Enter number 5, please: 1\n"
     ]
    },
    {
     "name": "stdout",
     "output_type": "stream",
     "text": [
      "The sum is 14\n"
     ]
    }
   ],
   "source": [
    "num1 = int(input(\"Enter number 1, please:\"))\n",
    "num2 = int(input(\"Enter number 2, please:\"))\n",
    "num3 = int(input(\"Enter number 3, please:\"))\n",
    "num4 = int(input(\"Enter number 4, please:\"))\n",
    "num5 = int(input(\"Enter number 5, please:\"))\n",
    "print(\"The sum is\", num1 + num2 + num3 + num4 + num5)"
   ]
  },
  {
   "cell_type": "markdown",
   "metadata": {},
   "source": [
    "What's wrong with this program?\n",
    "It works well for its purpose. However, if we ever want to add more numbers, say 10, then\n",
    "we have need to add five more lines of code. In this case it's just copy-and-paste, but for\n",
    "larger programs this kind of repetitive work can get complicated very soon---avoid them!\n",
    "Now let's write a new version of the program using a **while loop**."
   ]
  },
  {
   "cell_type": "code",
   "execution_count": 6,
   "metadata": {},
   "outputs": [
    {
     "name": "stdin",
     "output_type": "stream",
     "text": [
      "Enter a number, please: 10\n",
      "Enter a number, please: 11\n",
      "Enter a number, please: 12\n",
      "Enter a number, please: 13\n",
      "Enter a number, please: 14\n"
     ]
    },
    {
     "name": "stdout",
     "output_type": "stream",
     "text": [
      "The sum is 60\n"
     ]
    }
   ],
   "source": [
    "i = 0;\n",
    "sum = 0;\n",
    "while (i < 5):\n",
    "    sum = sum + int(input(\"Enter a number, please:\"))\n",
    "    i = i + 1\n",
    "print(\"The sum is\", sum)"
   ]
  },
  {
   "cell_type": "markdown",
   "metadata": {},
   "source": [
    "Note how we used a single `sum` variable instead of `num1` to `num5`!\n",
    "\n",
    "Using a while loop, we can write a program that computes the sum of the first 100 positive integers rather easily."
   ]
  },
  {
   "cell_type": "code",
   "execution_count": 2,
   "metadata": {},
   "outputs": [
    {
     "name": "stdout",
     "output_type": "stream",
     "text": [
      "The sum from 1 to 100 is 5050\n"
     ]
    }
   ],
   "source": [
    "i = 1;\n",
    "sum = 0;\n",
    "while (i < 101):\n",
    "    sum = sum + i\n",
    "    i = i + 1\n",
    "print(\"The sum from 1 to 100 is\", sum)"
   ]
  },
  {
   "cell_type": "markdown",
   "metadata": {},
   "source": [
    "Be careful that we start adding from 1, and we stop when `i` reaches 101, which is right after 100 has been added into `sum`.\n",
    "\n",
    "Alternatively, we can do this with a **for loop**:"
   ]
  },
  {
   "cell_type": "code",
   "execution_count": 6,
   "metadata": {},
   "outputs": [
    {
     "name": "stdout",
     "output_type": "stream",
     "text": [
      "The sum from 1 to 100 is 5050\n"
     ]
    }
   ],
   "source": [
    "sum = 0\n",
    "for i in range(1, 101):\n",
    "    sum = sum + i\n",
    "print(\"The sum from 1 to 100 is\", sum)"
   ]
  },
  {
   "cell_type": "markdown",
   "metadata": {},
   "source": [
    "Finally, instead of looping, we can use **if-else statements** to control which part of the code is to be executed:"
   ]
  },
  {
   "cell_type": "code",
   "execution_count": 11,
   "metadata": {},
   "outputs": [
    {
     "name": "stdin",
     "output_type": "stream",
     "text": [
      "Please input num1: 100\n",
      "Please input num2: 100\n"
     ]
    },
    {
     "name": "stdout",
     "output_type": "stream",
     "text": [
      "num1 == num2\n"
     ]
    }
   ],
   "source": [
    "num1 = int(input(\"Please input num1:\"))\n",
    "num2 = int(input(\"Please input num2:\"))\n",
    "if num1 > num2:\n",
    "    print(\"num1 > num2\")\n",
    "elif num2 > num1:\n",
    "    print(\"num2 > num1\")\n",
    "else:\n",
    "    print(\"num1 == num2\")"
   ]
  },
  {
   "cell_type": "markdown",
   "metadata": {},
   "source": [
    "Now, the exercises!"
   ]
  },
  {
   "cell_type": "markdown",
   "metadata": {},
   "source": [
    "1. Write a program that computes the body mass index (BMI) of an individual. \n",
    "Your program should begin by reading the height and weight from the user. Then it should use one of the following two formulas to compute the BMI before displaying it. If you read the height in kilograms and the weight in metres, then body mass index is computed using the following formula:\n",
    "\n",
    "    $\\textit{BMI} = \\frac{\\textit{weight}}{\\textit{height} \\, \\times \\, \\textit{height}} \\,.$\n",
    " \n",
    " If the weight is read in pounds and heights in inches, then use the following formula:\n",
    "\n",
    "    $\\textit{BMI} = \\frac{\\textit{weight}}{\\textit{height} \\, \\times \\, \\textit{height}} \\times 703 \\,.$"
   ]
  },
  {
   "cell_type": "code",
   "execution_count": 1,
   "metadata": {},
   "outputs": [
    {
     "name": "stdout",
     "output_type": "stream",
     "text": [
      "What scale is the data? k if in kilograms and metres, p in pounds and inches: k\n",
      "Please enter a height in metres: 1.76\n",
      "Please enter a weight in kilograms: 89\n",
      "28.731921487603305\n",
      "The BMI of this person's height and weight is 28.73.\n"
     ]
    }
   ],
   "source": [
    "choice_of_scale = input(\"What scale is the data? k if in kilograms and metres, p in pounds and inches: \" )\n",
    "\n",
    "if choice_of_scale.lower().strip() == \"k\":\n",
    "    height = float(input(\"Please enter a height in metres: \")) \n",
    "    weight = float(input(\"Please enter a weight in kilograms: \")) \n",
    "    h = height * height\n",
    "    BMI = weight /h \n",
    "    print(BMI)\n",
    "    print(\"The BMI of this person's height and weight is {}.\".format(round(BMI,2))) \n",
    "    \n",
    "elif choice_of_scale.lower().strip() == \"p\":\n",
    "    height = float(input(\"Please enter a height in inches: \")) \n",
    "    weight = float(input(\"Please enter a weight in pounds: \")) \n",
    "    BMI = ((weight)  / (height * height) )*703\n",
    "    print(\"The BMI of this person's height and weight is {}.\".format(round(BMI, 2))) \n",
    "else:\n",
    "    print(\"invalid options\")"
   ]
  },
  {
   "cell_type": "markdown",
   "metadata": {},
   "source": [
    "2. Write a program that asks the user for two words. Then print all the characters that the words have in common. You can consider upper case letters differently from the lower case letters, but each character that you report, should be reported only once (e.g., the strings \"bee\" and \"peer\" only have one character in common, namely the letter \"e\"). Hint: Gather the characters in a third string, and when you find a character that the two words have in common, check if it is already in the third string before reporting it."
   ]
  },
  {
   "cell_type": "code",
   "execution_count": 3,
   "metadata": {},
   "outputs": [
    {
     "name": "stdout",
     "output_type": "stream",
     "text": [
      "Enter the first word please : Peer\n",
      "Enter the second word please : Beer\n",
      "The words have the following in common: er\n"
     ]
    }
   ],
   "source": [
    "#Ask user for the two inputs\n",
    "word1 = input( \"Enter the first word please : \" )\n",
    "word2 = input( \"Enter the second word please : \" )\n",
    "#Declare a third string variable to store the common characters\n",
    "common = \"\"\n",
    "#compare the letters in word1 and word2\n",
    "for letter in word1:\n",
    "    #if the letter in word1 is contained in word2 but the letter has not been added to common\n",
    "    if (letter in word2) and (letter not in common):\n",
    "        common += letter\n",
    "if common == \"\":\n",
    "    print( \"The words share no characters.\" )\n",
    "else:\n",
    "    print( \"The words have the following in common:\", common)"
   ]
  },
  {
   "cell_type": "markdown",
   "metadata": {},
   "source": [
    "3. The _Fibonacci sequence_ is a sequence of numbers that starts with 0, followed by 1. Then, every next number is the sum of the two previous numbers. i.e., the sequence starts with 1, 1, 2, 3, 5, 8, 13, 21,...\n",
    "Write a program that calculates and prints the Fibonacci sequence until the numbers get higher than 1000."
   ]
  },
  {
   "cell_type": "code",
   "execution_count": 11,
   "metadata": {},
   "outputs": [
    {
     "name": "stdout",
     "output_type": "stream",
     "text": [
      "0 1 1 2 3 5 8 13 21 34 55 89 144 233 377 610 987 "
     ]
    }
   ],
   "source": [
    "#Declare variables to hold the first and second numbers\n",
    "num1 = 0\n",
    "num2 = 1\n",
    "print( num1, end=\" \" )\n",
    "print( num2, end=\" \" )\n",
    "#Use while loop to generate the series\n",
    "#if the third number is larger than 1000, break the loop and end the program\n",
    "while True:\n",
    "    num3 = num1 + num2\n",
    "    if num3 > 1000:\n",
    "        break\n",
    "    print( num3 , end=\" \" )\n",
    "    num1 = num2\n",
    "    num2 = num3"
   ]
  },
  {
   "cell_type": "markdown",
   "metadata": {},
   "source": [
    "4. Ask the user to supply a string. Print how many different vowels there are in the string. The capital version of a lower case vowel is considered to be the same vowel. Y is not considered a vowel. Try to print nice output (e.g., printing \"There are 3 different vowels in the string\" is romance). Example: When the user enters the string \"Today is a busy day\", the program should say that there are 4 different vowels in the string. "
   ]
  },
  {
   "cell_type": "code",
   "execution_count": 4,
   "metadata": {},
   "outputs": [
    {
     "name": "stdout",
     "output_type": "stream",
     "text": [
      "Please enter a string: Programming Concepts and Principle\n",
      "There are 4 different vowels in the string.\n"
     ]
    }
   ],
   "source": [
    "s = input( \"Please enter a string: \" ).strip()\n",
    "count = 0\n",
    "if (\"a\" in s) or (\"A\" in s):\n",
    "    count += 1\n",
    "if (\"e\" in s) or (\"E\" in s):\n",
    "    count += 1\n",
    "if (\"i\" in s) or (\"I\" in s):\n",
    "    count += 1\n",
    "if (\"o\" in s) or (\"O\" in s):\n",
    "    count += 1\n",
    "if (\"u\" in s) or (\"U\" in s):\n",
    "    count += 1\n",
    "if count == 0:\n",
    "    print( \"There are no vowels in the string.\" )\n",
    "elif count == 1:\n",
    "    print( \"There is only one different vowel in the string.\" )\n",
    "else:\n",
    "    print( \"There are\", count , \"different vowels in the string.\")"
   ]
  },
  {
   "cell_type": "code",
   "execution_count": null,
   "metadata": {},
   "outputs": [],
   "source": []
  },
  {
   "cell_type": "markdown",
   "metadata": {},
   "source": [
    "5.Write a program that determines whether someone can run for prime minister(PM). Assume that to run for PM you need to meet the following requirements: No person except a natural born Citizen, or a Citizen of the United Kingdom, shall be eligible to the Office of the PM; neither shall any person be eligible to that Office who has not attained the Age of thirty five Years, and been fourteen Years a Resident within the United Kingdom. \n",
    "\n",
    "Ask three questions of the user and use  guess and check pattern to determine if they are eligible to run for PM."
   ]
  },
  {
   "cell_type": "code",
   "execution_count": null,
   "metadata": {},
   "outputs": [],
   "source": [
    "# Solution to exercise 5\n",
    "age = int(input(\"Please enter your age:\"))\n",
    "resident = input( \"Are you a natural born citizen of the U.K. (yes/no)?\") \n",
    "years = int(input( \"How many years have you resided in the U.K.?\"))\n",
    "\n",
    "eligible = True\n",
    "if age < 35:\n",
    "    eligible = False\n",
    "if resident != \"yes\":\n",
    "    eligible = False\n",
    "if years < 14:\n",
    "    eligible = False\n",
    "if eligible:\n",
    "    print(\"You can run for PM!\")\n",
    "else:\n",
    "    print(\"You are not eligible to run for PM!\")"
   ]
  }
 ],
 "metadata": {
  "kernelspec": {
   "display_name": "Python 3 (ipykernel)",
   "language": "python",
   "name": "python3"
  },
  "language_info": {
   "codemirror_mode": {
    "name": "ipython",
    "version": 3
   },
   "file_extension": ".py",
   "mimetype": "text/x-python",
   "name": "python",
   "nbconvert_exporter": "python",
   "pygments_lexer": "ipython3",
   "version": "3.9.12"
  }
 },
 "nbformat": 4,
 "nbformat_minor": 2
}
